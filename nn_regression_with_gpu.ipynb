{
 "cells": [
  {
   "cell_type": "code",
   "execution_count": 73,
   "id": "6157ff78-ae9e-4dd2-a788-7c452d19abef",
   "metadata": {},
   "outputs": [],
   "source": [
    "import torch\n",
    "\n",
    "import numpy as np\n",
    "import matplotlib.pyplot as plt\n",
    "from torch.nn import Linear, MSELoss, functional as F\n",
    "%matplotlib inline"
   ]
  },
  {
   "cell_type": "code",
   "execution_count": 74,
   "id": "059d86e6-103e-4215-8c03-5460e8d30d0f",
   "metadata": {},
   "outputs": [],
   "source": [
    "import torch.nn as nn"
   ]
  },
  {
   "cell_type": "code",
   "execution_count": 75,
   "id": "a00ca26b-3d3d-4183-9a2a-82ea4524780a",
   "metadata": {},
   "outputs": [
    {
     "name": "stdout",
     "output_type": "stream",
     "text": [
      "torch.cuda.is_available(): True\n",
      "torch.cuda.current_device(): 0\n",
      "torch.cuda.get_device_name(0): NVIDIA GeForce GTX 1080 Ti\n",
      "torch.cuda.memory_allocated(): 27849216\n"
     ]
    }
   ],
   "source": [
    "# Test GPU support\n",
    "print(f'torch.cuda.is_available(): {torch.cuda.is_available()}')\n",
    "cuda_current_device = torch.cuda.current_device()\n",
    "print(f'torch.cuda.current_device(): {cuda_current_device}')\n",
    "print(f'torch.cuda.get_device_name({cuda_current_device}): {torch.cuda.get_device_name(cuda_current_device)}')\n",
    "print(f'torch.cuda.memory_allocated(): {torch.cuda.memory_allocated()}') # 0 at the begining when the kernel has started."
   ]
  },
  {
   "cell_type": "code",
   "execution_count": 76,
   "id": "3239e26c-e0f9-444c-8d51-4352e02237c8",
   "metadata": {},
   "outputs": [],
   "source": [
    "number_datapoints = 300000\n",
    "x_from = -20\n",
    "x_to = 20"
   ]
  },
  {
   "cell_type": "code",
   "execution_count": 77,
   "id": "6c4edd5c-9391-4f95-91fc-24634dbc104f",
   "metadata": {},
   "outputs": [],
   "source": [
    "# generate data\n",
    "X = torch.linspace(x_from, x_to, steps=number_datapoints).cuda()"
   ]
  },
  {
   "cell_type": "code",
   "execution_count": 78,
   "id": "8a7f92e1-2b10-4b65-9596-1cfa56783044",
   "metadata": {},
   "outputs": [],
   "source": [
    "X = X.reshape(-1, 1)"
   ]
  },
  {
   "cell_type": "code",
   "execution_count": 79,
   "id": "80b82745-d2ef-40ee-b187-4b2cdb6c1cff",
   "metadata": {},
   "outputs": [
    {
     "data": {
      "text/plain": [
       "device(type='cuda', index=0)"
      ]
     },
     "execution_count": 79,
     "metadata": {},
     "output_type": "execute_result"
    }
   ],
   "source": [
    "X.device"
   ]
  },
  {
   "cell_type": "code",
   "execution_count": 80,
   "id": "992c00fe-79f7-4812-89dd-9d0da98e235c",
   "metadata": {},
   "outputs": [
    {
     "data": {
      "text/plain": [
       "tensor([[-20.0000],\n",
       "        [-19.9999],\n",
       "        [-19.9997],\n",
       "        ...,\n",
       "        [ 19.9997],\n",
       "        [ 19.9999],\n",
       "        [ 20.0000]], device='cuda:0')"
      ]
     },
     "execution_count": 80,
     "metadata": {},
     "output_type": "execute_result"
    }
   ],
   "source": [
    "X"
   ]
  },
  {
   "cell_type": "code",
   "execution_count": 81,
   "id": "5f5e7447-f2b1-464c-864f-b879a467e102",
   "metadata": {},
   "outputs": [
    {
     "data": {
      "text/plain": [
       "29049344"
      ]
     },
     "execution_count": 81,
     "metadata": {},
     "output_type": "execute_result"
    }
   ],
   "source": [
    "torch.cuda.memory_allocated()"
   ]
  },
  {
   "cell_type": "code",
   "execution_count": 82,
   "id": "78b02817-cb39-4ec1-af1b-a31f90fb8676",
   "metadata": {},
   "outputs": [],
   "source": [
    "def y_fun(x):\n",
    "    return 5 * x + 18"
   ]
  },
  {
   "cell_type": "code",
   "execution_count": 83,
   "id": "2b597ab5-f6c5-42a5-9daf-f53a60bc315b",
   "metadata": {},
   "outputs": [],
   "source": [
    "y = y_fun(X)"
   ]
  },
  {
   "cell_type": "code",
   "execution_count": 84,
   "id": "15ec189f-6a11-40c0-8dcd-dbfd25b46ee0",
   "metadata": {},
   "outputs": [],
   "source": [
    "torch.manual_seed(100)\n",
    "e = torch.randint(-3, 3, (number_datapoints, 1), dtype=torch.float).cuda()\n",
    "y_noise =  y + e"
   ]
  },
  {
   "cell_type": "code",
   "execution_count": 85,
   "id": "a0e1b1c6-30b3-4c03-bce5-1ab11d310637",
   "metadata": {},
   "outputs": [
    {
     "data": {
      "image/png": "[encoded data removed]",
      "text/plain": [
       "<Figure size 640x480 with 1 Axes>"
      ]
     },
     "metadata": {},
     "output_type": "display_data"
    }
   ],
   "source": [
    "plt.scatter(X.cpu().numpy(), y_noise.cpu().numpy())\n",
    "plt.plot(X.cpu().numpy(), y.cpu().numpy(), 'r')\n",
    "plt.grid()"
   ]
  },
  {
   "cell_type": "code",
   "execution_count": 86,
   "id": "fdb90660-0199-4a70-b960-8ff0f42a36a4",
   "metadata": {},
   "outputs": [],
   "source": [
    "class NN(nn.Module):\n",
    "    def __init__(self, h1=10):\n",
    "        super().__init__()\n",
    "        self.fc1 = nn.Linear(1, h1)    # input layer\n",
    "        self.out = nn.Linear(h1, 1)   # output layer\n",
    "        \n",
    "    def forward(self, x):\n",
    "        x = self.fc1(x)\n",
    "        x = self.out(x)\n",
    "        return x"
   ]
  },
  {
   "cell_type": "code",
   "execution_count": 87,
   "id": "526f975f-4574-48e2-a056-c81b870d9c2b",
   "metadata": {},
   "outputs": [],
   "source": [
    "torch.manual_seed(44)\n",
    "model = NN().cuda()"
   ]
  },
  {
   "cell_type": "code",
   "execution_count": 88,
   "id": "e7c79529-e270-4185-80c2-4f7bbed1b0bd",
   "metadata": {},
   "outputs": [],
   "source": [
    "criterion = nn.MSELoss()"
   ]
  },
  {
   "cell_type": "code",
   "execution_count": 89,
   "id": "1d31ba33-d375-43dd-bd09-d51acd707245",
   "metadata": {},
   "outputs": [],
   "source": [
    "optimizer = torch.optim.Adam(model.parameters(), lr=0.01)"
   ]
  },
  {
   "cell_type": "code",
   "execution_count": 90,
   "id": "cb3d9127-1825-4761-a25a-3e18591e8ec3",
   "metadata": {},
   "outputs": [],
   "source": [
    "epochs = 520\n"
   ]
  },
  {
   "cell_type": "code",
   "execution_count": 91,
   "id": "6810d1c2-1111-4a44-b79f-236d09dbabe4",
   "metadata": {},
   "outputs": [],
   "source": [
    "losses = []"
   ]
  },
  {
   "cell_type": "code",
   "execution_count": 92,
   "id": "7f617b3e-65eb-42b5-a823-ee93d0fb6469",
   "metadata": {},
   "outputs": [
    {
     "name": "stdout",
     "output_type": "stream",
     "text": [
      "epoch 10 loss 2266.030517578125\n",
      "epoch 20 loss 1466.918212890625\n",
      "epoch 30 loss 773.9465942382812\n",
      "epoch 40 loss 322.53363037109375\n",
      "epoch 50 loss 169.84410095214844\n",
      "epoch 60 loss 160.65455627441406\n",
      "epoch 70 loss 140.77317810058594\n",
      "epoch 80 loss 117.00602722167969\n",
      "epoch 90 loss 102.91357421875\n",
      "epoch 100 loss 90.48712158203125\n",
      "epoch 110 loss 78.75865936279297\n",
      "epoch 120 loss 68.4741439819336\n",
      "epoch 130 loss 59.19373321533203\n",
      "epoch 140 loss 50.83162307739258\n",
      "epoch 150 loss 43.375911712646484\n",
      "epoch 160 loss 36.759300231933594\n",
      "epoch 170 loss 30.94024658203125\n",
      "epoch 180 loss 25.87323570251465\n",
      "epoch 190 loss 21.508832931518555\n",
      "epoch 200 loss 17.794666290283203\n",
      "epoch 210 loss 14.674333572387695\n",
      "epoch 220 loss 12.088691711425781\n",
      "epoch 230 loss 9.976863861083984\n",
      "epoch 240 loss 8.277730941772461\n",
      "epoch 250 loss 6.93161153793335\n",
      "epoch 260 loss 5.881824016571045\n",
      "epoch 270 loss 5.076085090637207\n",
      "epoch 280 loss 4.467471122741699\n",
      "epoch 290 loss 4.015022277832031\n",
      "epoch 300 loss 3.6839263439178467\n",
      "epoch 310 loss 3.4453775882720947\n",
      "epoch 320 loss 3.276111125946045\n",
      "epoch 330 loss 3.157787561416626\n",
      "epoch 340 loss 3.076277256011963\n",
      "epoch 350 loss 3.020918130874634\n",
      "epoch 360 loss 2.983839988708496\n",
      "epoch 370 loss 2.9593403339385986\n",
      "epoch 380 loss 2.9433679580688477\n",
      "epoch 390 loss 2.9330875873565674\n",
      "epoch 400 loss 2.926555871963501\n",
      "epoch 410 loss 2.9224579334259033\n",
      "epoch 420 loss 2.9199187755584717\n",
      "epoch 430 loss 2.9183645248413086\n",
      "epoch 440 loss 2.9174251556396484\n",
      "epoch 450 loss 2.9168641567230225\n",
      "epoch 460 loss 2.9165329933166504\n",
      "epoch 470 loss 2.916339874267578\n",
      "epoch 480 loss 2.916229248046875\n",
      "epoch 490 loss 2.916166067123413\n",
      "epoch 500 loss 2.916130781173706\n",
      "epoch 510 loss 2.9161112308502197\n",
      "epoch 520 loss 2.91610050201416\n",
      "total time 0.5771448612213135\n"
     ]
    }
   ],
   "source": [
    "import time\n",
    "start = time.time()\n",
    "for epoch in range(epochs):\n",
    "    epoch = epoch + 1\n",
    "    y_pred = model.forward(X)\n",
    "    loss = criterion(y_pred, y_noise)\n",
    "    losses.append(loss.cpu())\n",
    "    if epoch%10 == 0:\n",
    "        print(f'epoch {epoch} loss {loss.item()}')\n",
    "    optimizer.zero_grad()\n",
    "    loss.backward()\n",
    "    optimizer.step()\n",
    "end = time.time() - start\n",
    "print(f'total time {end}')"
   ]
  },
  {
   "cell_type": "code",
   "execution_count": 93,
   "id": "09003eac-1c6e-4fe1-888a-05f040be4871",
   "metadata": {},
   "outputs": [
    {
     "data": {
      "image/png": "[encoded data removed]",
      "text/plain": [
       "<Figure size 640x480 with 1 Axes>"
      ]
     },
     "metadata": {},
     "output_type": "display_data"
    }
   ],
   "source": [
    "with torch.no_grad():\n",
    "    plt.plot(range(epochs), losses)"
   ]
  },
  {
   "cell_type": "code",
   "execution_count": 94,
   "id": "e1cf9d3e-4520-41be-a5c3-801afd96e18c",
   "metadata": {},
   "outputs": [],
   "source": [
    "with torch.no_grad():\n",
    "    y_val = model.forward(X)"
   ]
  },
  {
   "cell_type": "code",
   "execution_count": 95,
   "id": "685371a4-00e2-412b-a0d2-dcff05d22097",
   "metadata": {},
   "outputs": [
    {
     "data": {
      "image/png": "[encoded data removed]",
      "text/plain": [
       "<Figure size 640x480 with 1 Axes>"
      ]
     },
     "metadata": {},
     "output_type": "display_data"
    }
   ],
   "source": [
    "#plt.scatter(X.numpy(), y_noise.numpy())\n",
    "plt.plot(X.cpu().numpy(), y.cpu().numpy(), 'r')\n",
    "plt.plot(X.cpu().numpy(), y_val.cpu().numpy(), 'g')\n",
    "plt.grid()"
   ]
  },
  {
   "cell_type": "code",
   "execution_count": 96,
   "id": "09aa197e-c240-49ff-9965-2cac98919bde",
   "metadata": {},
   "outputs": [
    {
     "name": "stdout",
     "output_type": "stream",
     "text": [
      "For unseen x: 25.0 not in the [-20, 20] interval\n",
      "Expected: 143.0, Predicted: 142.48403930664062\n"
     ]
    }
   ],
   "source": [
    "# Fast dirty test for unseen X here\n",
    "# You'll see that the predictions are not that bad given the model has been trained on the data + noise\n",
    "# The point is to compare the difference between training the model on GPU as opposed to training it on CPU\n",
    "\n",
    "\n",
    "x_new = 25.0\n",
    "with torch.no_grad():\n",
    "    y_actual = model.forward(torch.tensor([[x_new]]).cuda())\n",
    "\n",
    "print(f'For unseen x: {x_new} not in the [{x_from}, {x_to}] interval')\n",
    "print(f'Expected: {y_fun(x_new)}, Predicted: {y_actual.item()}')"
   ]
  },
  {
   "cell_type": "code",
   "execution_count": null,
   "id": "8b088e11-aabf-40d4-b6f7-4d7e3b04f2e3",
   "metadata": {},
   "outputs": [],
   "source": []
  }
 ],
 "metadata": {
  "kernelspec": {
   "display_name": "Python 3 (ipykernel)",
   "language": "python",
   "name": "python3"
  },
  "language_info": {
   "codemirror_mode": {
    "name": "ipython",
    "version": 3
   },
   "file_extension": ".py",
   "mimetype": "text/x-python",
   "name": "python",
   "nbconvert_exporter": "python",
   "pygments_lexer": "ipython3",
   "version": "3.10.12"
  }
 },
 "nbformat": 4,
 "nbformat_minor": 5
}
